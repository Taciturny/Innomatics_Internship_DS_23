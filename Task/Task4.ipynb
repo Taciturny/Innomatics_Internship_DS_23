{
 "cells": [
  {
   "cell_type": "code",
   "execution_count": null,
   "metadata": {},
   "outputs": [],
   "source": [
    "# sWAP cASE\n",
    "def swap_case(s):\n",
    "    return s.swapcase()"
   ]
  },
  {
   "cell_type": "code",
   "execution_count": null,
   "metadata": {},
   "outputs": [],
   "source": [
    "# String Split and Join\n",
    "def split_and_join(line):\n",
    "    return '-'.join(line.split())"
   ]
  },
  {
   "cell_type": "code",
   "execution_count": null,
   "metadata": {},
   "outputs": [],
   "source": [
    "# What's Your Name?\n",
    "def print_full_name(first, last):\n",
    "    print(f'Hello {first} {last}! You just delved into python.')"
   ]
  },
  {
   "cell_type": "code",
   "execution_count": null,
   "metadata": {},
   "outputs": [],
   "source": [
    "# Mutations\n",
    "def mutate_string(string, position, character):\n",
    "    l = list(string)\n",
    "    l[position] = character\n",
    "    return(\"\".join(l))"
   ]
  },
  {
   "cell_type": "code",
   "execution_count": null,
   "metadata": {},
   "outputs": [],
   "source": [
    "# Find a string\n",
    "def count_substring(string, sub_string):\n",
    "    counter = 0\n",
    "    for i,c in enumerate(string):\n",
    "        if i + len(sub_string) > len(string):\n",
    "            break\n",
    "        if string[i:i+len(sub_string)] == sub_string:\n",
    "            counter += 1\n",
    "    return counter"
   ]
  },
  {
   "cell_type": "code",
   "execution_count": null,
   "metadata": {},
   "outputs": [],
   "source": [
    "# String Validators\n",
    "if __name__ == '__main__':\n",
    "    s = input()\n",
    "    print(any(c.isalnum() for c in s))\n",
    "    print(any(c.isalpha() for c in s))\n",
    "    print(any(c.isdigit() for c in s))\n",
    "    print(any(c.islower() for c in s))\n",
    "    print(any(c.isupper() for c in s))"
   ]
  },
  {
   "cell_type": "code",
   "execution_count": null,
   "metadata": {},
   "outputs": [],
   "source": [
    "# Text Alignment\n",
    "thickness = int(input()) #This must be an odd number\n",
    "c = 'H'\n",
    "\n",
    "#Top Cone\n",
    "for i in range(thickness):\n",
    "    print((c*i).rjust(thickness-1)+c+(c*i).ljust(thickness-1))\n",
    "\n",
    "#Top Pillars\n",
    "for i in range(thickness+1):\n",
    "    print((c*thickness).center(thickness*2)+(c*thickness).center(thickness*6))\n",
    "\n",
    "#Middle Belt\n",
    "for i in range((thickness+1)//2):\n",
    "    print((c*thickness*5).center(thickness*6))    \n",
    "\n",
    "#Bottom Pillars\n",
    "for i in range(thickness+1):\n",
    "    print((c*thickness).center(thickness*2)+(c*thickness).center(thickness*6))    \n",
    "\n",
    "#Bottom Cone\n",
    "for i in range(thickness):\n",
    "    print(((c*(thickness-i-1)).rjust(thickness)+c+(c*(thickness-i-1)).ljust(thickness)).rjust(thickness*6))"
   ]
  },
  {
   "cell_type": "code",
   "execution_count": null,
   "metadata": {},
   "outputs": [],
   "source": [
    "# Designer Door Mat\n",
    "user_input = input().split()\n",
    "\n",
    "N, M = int(user_input[0]), int(user_input[1])\n",
    "\n",
    "s = 1\n",
    "\n",
    "for line in range(N+1):\n",
    "    if line < int(N/2):\n",
    "        print((\".|.\"*s).center(M, \"-\"))\n",
    "        s += 2\n",
    "    elif line == round(N/2):\n",
    "        print(\"WELCOME\".center(M, \"-\"))\n",
    "    elif line > int(N/2) and s > 1:\n",
    "        s -= 2\n",
    "        print((\".|.\"*s).center(M, \"-\"))"
   ]
  },
  {
   "cell_type": "code",
   "execution_count": null,
   "metadata": {},
   "outputs": [],
   "source": [
    "# String Formatting\n",
    "def print_formatted(number):\n",
    "    # your code goes here\n",
    "    p = number.bit_length()\n",
    "    for i in range(1, number+1):\n",
    "        print(str(i).rjust(p), oct(i).split(\"o\")[1].rjust(p), hex (i).split(\"x\")[1].upper().rjust(p), bin(i).split(\"b\")[1].rjust(p))"
   ]
  },
  {
   "cell_type": "code",
   "execution_count": null,
   "metadata": {},
   "outputs": [],
   "source": [
    "# Alphabet Rangoli\n",
    "def print_rangoli(size):\n",
    "    # your code goes here\n",
    "    import string\n",
    "    design = string.ascii_lowercase\n",
    "\n",
    "    L = []\n",
    "    for i in range(n):\n",
    "        s = \"-\".join(design[i:n])\n",
    "        L.append((s[::-1]+s[1:]).center(4*n-3, \"-\"))\n",
    "        \n",
    "    print('\\n'.join(L[:0:-1]+L))\n",
    "\n",
    "if __name__ == '__main__':\n",
    "    n = int(input())\n",
    "    print_rangoli(n)"
   ]
  },
  {
   "cell_type": "code",
   "execution_count": null,
   "metadata": {},
   "outputs": [],
   "source": [
    "# Capitalize!\n",
    "def solve(s):\n",
    "    return ' '.join((word.capitalize() for word in s.split(' ')))"
   ]
  },
  {
   "cell_type": "code",
   "execution_count": null,
   "metadata": {},
   "outputs": [],
   "source": [
    "# The Minion Game\n",
    "def minion_game(string):\n",
    "    # your code goes here\n",
    "    vowels = 'AEIOU'\n",
    "    \n",
    "    kev = 0\n",
    "    stu = 0\n",
    "    for i in range(len(s)):\n",
    "        if s[i] in vowels:\n",
    "            kev += (len(s)-i)\n",
    "        else:\n",
    "            stu += (len(s)-i)\n",
    "\n",
    "    if kev > stu:\n",
    "        print(\"Kevin\", kev)\n",
    "    elif kev < stu:\n",
    "        print(\"Stuart\", stu)\n",
    "    else:\n",
    "        print(\"Draw\")\n",
    "\n",
    "if __name__ == '__main__':\n",
    "    s = input()\n",
    "    minion_game("
   ]
  },
  {
   "cell_type": "code",
   "execution_count": null,
   "metadata": {},
   "outputs": [],
   "source": [
    "# Merge the Tools!\n",
    "def merge_the_tools(string, k):\n",
    "    # your code goes here\n",
    "    unique = []\n",
    "    for i in range(0, len(string), k):\n",
    "        u = \"\"\n",
    "        for character in string[i:i+k]:\n",
    "            if character not in u:\n",
    "                u = u + character\n",
    "        unique.append(u)\n",
    "    print(\"\\n\".join(unique))"
   ]
  }
 ],
 "metadata": {
  "kernelspec": {
   "display_name": "MyTest",
   "language": "python",
   "name": "python3"
  },
  "language_info": {
   "name": "python",
   "version": "3.10.6"
  },
  "orig_nbformat": 4,
  "vscode": {
   "interpreter": {
    "hash": "cc624a8c9acc6ae5dd11460ddaa77cec30770f4f7020eb81bf90449e9aebfdb4"
   }
  }
 },
 "nbformat": 4,
 "nbformat_minor": 2
}
