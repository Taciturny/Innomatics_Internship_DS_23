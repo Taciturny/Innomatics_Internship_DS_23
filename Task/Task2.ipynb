{
 "cells": [
  {
   "cell_type": "code",
   "execution_count": null,
   "metadata": {},
   "outputs": [],
   "source": [
    "# List Comprehensions\n",
    "if __name__ == '__main__':\n",
    "    x = int(input())\n",
    "    y = int(input())\n",
    "    z = int(input())\n",
    "    n = int(input())\n",
    "    answer = [[i, j, k] for i in range(x+1) for j in range(y+1) for k in range(z+1) if i+j+k != n] \n",
    "    print(answer)"
   ]
  },
  {
   "cell_type": "code",
   "execution_count": null,
   "metadata": {},
   "outputs": [],
   "source": [
    "# Find the Runner-Up Score!\n",
    "n = int(input())\n",
    "arr = map(int, input().split())\n",
    "\n",
    "print(sorted(set(arr), reverse=True)[1])\n"
   ]
  },
  {
   "cell_type": "code",
   "execution_count": null,
   "metadata": {},
   "outputs": [],
   "source": [
    "# Nested Lists\n",
    "if __name__ == '__main__':\n",
    "    students = []\n",
    "    for _ in range(int(input())):\n",
    "        name = input()\n",
    "        score = float(input())\n",
    "        students.append([name, score])\n",
    "    sorted_stu = sorted(list(set([x[1] for x in students])))\n",
    "    second_lowest = sorted_stu[1]\n",
    "    \n",
    "    students_final_list = []\n",
    "    for student in students:\n",
    "        if second_lowest == student[1]:\n",
    "            students_final_list.append(student[0])\n",
    "            \n",
    "    for student in sorted(students_final_list):\n",
    "        print(student)        \n"
   ]
  },
  {
   "cell_type": "code",
   "execution_count": null,
   "metadata": {},
   "outputs": [],
   "source": [
    "# Lists\n",
    "if __name__ == '__main__':\n",
    "    N = int(input())\n",
    "    lst = []\n",
    "    for _ in range(N):\n",
    "        query = input().split()\n",
    "        if query[0] == 'insert':\n",
    "            lst.insert(int(query[1]), int(query[2]))\n",
    "        elif query[0] == 'print':\n",
    "            print(lst)\n",
    "        elif query[0] == 'remove':\n",
    "            lst.remove(int(query[1]))\n",
    "        elif query[0] == 'append':\n",
    "            lst.append(int(query[1]))\n",
    "        elif query[0] == 'sort':\n",
    "            lst.sort()\n",
    "        elif query[0] == 'pop':\n",
    "            lst.pop()\n",
    "        elif query[0] == 'reverse':\n",
    "            lst.reverse()"
   ]
  },
  {
   "cell_type": "code",
   "execution_count": null,
   "metadata": {},
   "outputs": [],
   "source": [
    "# tuples\n",
    "if __name__ == '__main__':\n",
    "    n = int(input())\n",
    "    integer_list = map(int, input().split())\n",
    "    print(hash(tuple(integer_list)))"
   ]
  },
  {
   "cell_type": "code",
   "execution_count": null,
   "metadata": {},
   "outputs": [],
   "source": [
    "# Introduction to Sets\n",
    "def average(array):\n",
    "    # your code goes here\n",
    "    return sum(set(array))/ len(set(array))"
   ]
  },
  {
   "cell_type": "code",
   "execution_count": null,
   "metadata": {},
   "outputs": [],
   "source": [
    "# No Idea\n",
    "if __name__ == '__main__':\n",
    "    happiness = 0\n",
    "     \n",
    "    n, m = map(int, input().strip().split(' '))\n",
    "    arr = list(map(int, input().strip().split(' ')))\n",
    "    A = set(map(int, input().strip().split(' ')))\n",
    "    B = set(map(int, input().strip().split(' ')))\n",
    "    for i in arr:\n",
    "        if i in A:\n",
    "            happiness += 1\n",
    "        elif i in B:\n",
    "            happiness -= 1\n",
    "    print(happiness) \n"
   ]
  },
  {
   "cell_type": "code",
   "execution_count": null,
   "metadata": {},
   "outputs": [],
   "source": [
    "# Symmetric Difference\n",
    "if __name__ =='__main__':\n",
    "    number1 = int(input())\n",
    "    set1 = set(map(int, input().split()))\n",
    "    number2 = int(input())\n",
    "    set2 = set(map(int, input().split()))\n",
    "    set3 = (set1.difference(set2)).union(set2.difference(set1))\n",
    "    for i in sorted(list(set3)):\n",
    "        print(i)"
   ]
  },
  {
   "cell_type": "code",
   "execution_count": null,
   "metadata": {},
   "outputs": [],
   "source": [
    "# Set.add()\n",
    "if __name__ == '__main__':\n",
    "    N = int(input())\n",
    "    c = set(input() for i in range(N))\n",
    "    print(len(c))"
   ]
  },
  {
   "cell_type": "code",
   "execution_count": null,
   "metadata": {},
   "outputs": [],
   "source": [
    "# Set .discard(), .remove() & .pop()\n",
    "n = int(input())\n",
    "s = set(map(int, input().split()))\n",
    "a = int(input())\n",
    "for i in range(a):\n",
    "    l = []\n",
    "    l = input().split()\n",
    "    if l[0] == 'pop':\n",
    "        s.pop()\n",
    "    elif l[0] == 'remove':\n",
    "        s.remove(int(l[1]))\n",
    "    elif l[0] == 'discard':\n",
    "        s.discard(int(l[1]))\n",
    "    else:\n",
    "        print('not a command')\n",
    "\n",
    "print(sum(s))"
   ]
  },
  {
   "cell_type": "code",
   "execution_count": null,
   "metadata": {},
   "outputs": [],
   "source": [
    "# Set .union() Operation\n",
    "a = int(input())\n",
    "a1 = set(map(int, input().split()))\n",
    "b = int(input())\n",
    "b1 = set(map(int, input().split()))\n",
    "\n",
    "u = a1.union(b1)\n",
    "\n",
    "print(len(u))"
   ]
  },
  {
   "cell_type": "code",
   "execution_count": null,
   "metadata": {},
   "outputs": [],
   "source": [
    "# Set .intersection() Operation\n",
    "a = int(input())\n",
    "a1 = set(map(int, input().split()))\n",
    "b = int(input())\n",
    "b1 = set(map(int, input().split()))\n",
    "\n",
    "u = a1.intersection(b1)\n",
    "\n",
    "print(len(u))"
   ]
  },
  {
   "cell_type": "code",
   "execution_count": null,
   "metadata": {},
   "outputs": [],
   "source": [
    "# Set .difference() Operation\n",
    "a = int(input())\n",
    "a1 = set(map(int, input().split()))\n",
    "b = int(input())\n",
    "b1 = set(map(int, input().split()))\n",
    "\n",
    "u = a1.difference(b1)\n",
    "\n",
    "print(len(u))"
   ]
  },
  {
   "cell_type": "code",
   "execution_count": null,
   "metadata": {},
   "outputs": [],
   "source": [
    "# Set .symmetric_difference() Operation\n",
    "a = int(input())\n",
    "a1 = set(map(int, input().split()))\n",
    "b = int(input())\n",
    "b1 = set(map(int, input().split()))\n",
    "\n",
    "u = a1.symmetric_difference(b1)\n",
    "\n",
    "print(len(u))"
   ]
  },
  {
   "cell_type": "code",
   "execution_count": null,
   "metadata": {},
   "outputs": [],
   "source": [
    "# Set Mutations\n",
    "a = input()\n",
    "a1 = set(map(int, input().split()))\n",
    "N = int(input())\n",
    "\n",
    "for i in range(N):\n",
    "    b = input().split()\n",
    "    b1 = set(map(int, input().split()))\n",
    "    if b[0] == 'intersection_update':\n",
    "        a1.intersection_update(b1)\n",
    "    elif b[0] == 'update':\n",
    "        a1.update(b1)\n",
    "    elif b[0] == 'symmetric_difference_update':\n",
    "        a1.symmetric_difference_update(b1)\n",
    "    elif b[0] == 'difference_update':\n",
    "        a1.difference_update(b1)\n",
    "    else:\n",
    "        print('incorrect parameters')\n",
    "    \n",
    "print(sum(a1))"
   ]
  },
  {
   "cell_type": "code",
   "execution_count": null,
   "metadata": {},
   "outputs": [],
   "source": [
    "# The Captain's Room\n",
    "from collections import Counter\n",
    "\n",
    "n = input()\n",
    "s = input().split()\n",
    "\n",
    "k = Counter(s)\n",
    "\n",
    "d = dict(k)\n",
    "\n",
    "print(min(d, key=lambda k: d[k]))"
   ]
  },
  {
   "cell_type": "code",
   "execution_count": null,
   "metadata": {},
   "outputs": [],
   "source": [
    "# Check Subset\n",
    "for i in range(int(input())):\n",
    "    a = int(input());\n",
    "    A = set(input().split());\n",
    "    b = int(input());\n",
    "    B = set(input().split());\n",
    "    if A.issubset(B):\n",
    "        print('True')\n",
    "    else:\n",
    "        print('False')\n",
    "        "
   ]
  },
  {
   "cell_type": "code",
   "execution_count": null,
   "metadata": {},
   "outputs": [],
   "source": [
    "# Check Strict Superset\n",
    "A = set(input().split()) \n",
    "\n",
    "is_superset = True \n",
    "\n",
    "n = int(input()) \n",
    "\n",
    "for i in range(n):\n",
    "    set1 = set(input().split()) \n",
    "    if not set1.issubset(A): \n",
    "        is_superset = False \n",
    "    if len(A.intersection(set1)) == len(set1): \n",
    "        is_superset = False \n",
    "\n",
    "print(is_superset) "
   ]
  }
 ],
 "metadata": {
  "kernelspec": {
   "display_name": "MyTest",
   "language": "python",
   "name": "python3"
  },
  "language_info": {
   "name": "python",
   "version": "3.10.6"
  },
  "orig_nbformat": 4,
  "vscode": {
   "interpreter": {
    "hash": "cc624a8c9acc6ae5dd11460ddaa77cec30770f4f7020eb81bf90449e9aebfdb4"
   }
  }
 },
 "nbformat": 4,
 "nbformat_minor": 2
}
